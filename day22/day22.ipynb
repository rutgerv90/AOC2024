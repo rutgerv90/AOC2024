{
 "cells": [
  {
   "cell_type": "markdown",
   "metadata": {},
   "source": [
    "# Day 22: Monkey Market\n",
    "\n",
    "https://adventofcode.com/2024/day/22\n",
    "\n",
    "## --- Part One ---"
   ]
  },
  {
   "cell_type": "code",
   "execution_count": 22,
   "metadata": {},
   "outputs": [
    {
     "name": "stdout",
     "output_type": "stream",
     "text": [
      "Answer to part 1: 20411980517\n"
     ]
    }
   ],
   "source": [
    "# some imports i may or may not need \n",
    "import numpy as np\n",
    "import math\n",
    "import re\n",
    "import heapq\n",
    "from copy import deepcopy\n",
    "from pprint import pprint\n",
    "from termcolor import colored\n",
    "import matplotlib.pyplot as plt\n",
    "\n",
    "file = 'input.txt'\n",
    "# file = 'sample.txt'\n",
    "# file = 'sample2.txt'\n",
    "\n",
    "# init vars\n",
    "answer = 0\n",
    "secrets = []\n",
    "\n",
    "# open file & load content\n",
    "with open(file, 'r') as f:\n",
    "    secrets = [int(x) for x in f.read().splitlines()]\n",
    "\n",
    "def calc_new_secret(num):\n",
    "    # Calculate the result of multiplying the secret number by 64. Then, mix this result into the secret number. Finally, prune the secret number.\n",
    "    p1 = prune((num*64)^num)\n",
    "    # Calculate the result of dividing the secret number by 32. Round the result down to the nearest integer. Then, mix this result into the secret number. Finally, prune the secret number.\n",
    "    p2 = prune(math.floor(p1/32)^p1)\n",
    "    # Calculate the result of multiplying the secret number by 2048. Then, mix this result into the secret number. Finally, prune the secret number.\n",
    "    p3 = prune((p2*2048)^p2)\n",
    "    return p3\n",
    "\n",
    "\n",
    "def prune(x):\n",
    "    return x % 16777216 \n",
    "\n",
    "out = []\n",
    "\n",
    "for secret in secrets:\n",
    "    for i in range(2000):\n",
    "        secret = calc_new_secret(secret)\n",
    "    out.append(secret)\n",
    "\n",
    "print('Answer to part 1:', np.sum(out))"
   ]
  },
  {
   "cell_type": "markdown",
   "metadata": {},
   "source": [
    "## --- Part Two ---"
   ]
  },
  {
   "cell_type": "code",
   "execution_count": 87,
   "metadata": {},
   "outputs": [
    {
     "name": "stdout",
     "output_type": "stream",
     "text": [
      "Answer to part 2: 2362 for sequence (-2, 1, -1, 2)\n"
     ]
    }
   ],
   "source": [
    "# Specifically, the monkey will ONLY look for a specific sequence of FOUR consecutive changes in price, then immediately sell when it sees that sequence.\n",
    "\n",
    "file = 'input.txt'\n",
    "# file = 'sample2.txt'\n",
    "\n",
    "# init vars\n",
    "secrets = []\n",
    "\n",
    "# open file & load content\n",
    "with open(file, 'r') as f:\n",
    "    secrets = [int(x) for x in f.read().splitlines()]\n",
    "\n",
    "def calc_new_secret(num):\n",
    "    # Calculate the result of multiplying the secret number by 64. Then, mix this result into the secret number. Finally, prune the secret number.\n",
    "    p1 = prune((num*64)^num)\n",
    "    # Calculate the result of dividing the secret number by 32. Round the result down to the nearest integer. Then, mix this result into the secret number. Finally, prune the secret number.\n",
    "    p2 = prune(math.floor(p1/32)^p1)\n",
    "    # Calculate the result of multiplying the secret number by 2048. Then, mix this result into the secret number. Finally, prune the secret number.\n",
    "    p3 = prune((p2*2048)^p2)\n",
    "    return p3\n",
    "\n",
    "def prune(x):\n",
    "    return x % 16777216 \n",
    "\n",
    "uniques = set()\n",
    "dicts = []\n",
    "\n",
    "for secret in secrets:\n",
    "    changes = []\n",
    "    prices = []\n",
    "    results = {}\n",
    "    for i in range(2000):\n",
    "        price1 = secret %10\n",
    "        prices.append(price1)\n",
    "        secret = calc_new_secret(secret)\n",
    "        price2 = secret%10\n",
    "        changes.append(price2 - price1) \n",
    "    # remove the last one, \n",
    "    changes.pop()\n",
    "    for i in range(4,len(prices)):\n",
    "        prev4 = tuple(changes[i-4:i])\n",
    "        # add to list of unique tuples\n",
    "        uniques.add(prev4)\n",
    "        # only append the firs occurent\n",
    "        if prev4 not in results:\n",
    "            results[prev4] = prices[i]\n",
    "    dicts.append(results)\n",
    "\n",
    "bananas = 0\n",
    "best = ()\n",
    "for sequence in uniques:\n",
    "    local_score = 0\n",
    "    for zzz in dicts:\n",
    "        if sequence in zzz:\n",
    "            local_score += zzz[sequence]\n",
    "    if local_score > bananas:\n",
    "        bananas = local_score\n",
    "        best = sequence\n",
    "\n",
    "print('Answer to part 2:', bananas, 'for sequence', best)"
   ]
  }
 ],
 "metadata": {
  "kernelspec": {
   "display_name": "Python 3",
   "language": "python",
   "name": "python3"
  },
  "language_info": {
   "codemirror_mode": {
    "name": "ipython",
    "version": 3
   },
   "file_extension": ".py",
   "mimetype": "text/x-python",
   "name": "python",
   "nbconvert_exporter": "python",
   "pygments_lexer": "ipython3",
   "version": "3.12.4"
  }
 },
 "nbformat": 4,
 "nbformat_minor": 2
}
