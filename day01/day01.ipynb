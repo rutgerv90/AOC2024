{
 "cells": [
  {
   "cell_type": "markdown",
   "metadata": {},
   "source": [
    "# Day 1: Historian Hysteria\n",
    "\n",
    "https://adventofcode.com/2024/day/1\n",
    "\n",
    "## --- Part One ---"
   ]
  },
  {
   "cell_type": "code",
   "execution_count": null,
   "metadata": {},
   "outputs": [
    {
     "name": "stdout",
     "output_type": "stream",
     "text": [
      "1834060\n"
     ]
    }
   ],
   "source": [
    "file = 'input.txt'\n",
    "# file = 'sample.txt'\n",
    "\n",
    "left = []\n",
    "right = []\n",
    "total = 0\n",
    "\n",
    "# open file\n",
    "with open(file, 'r') as f:\n",
    "    # read input\n",
    "    lines = f.read().splitlines()\n",
    "    for line in lines:\n",
    "        # split input to left/right arrays\n",
    "        [x, y] = line.split('   ')\n",
    "        left.append(int(x))\n",
    "        right.append(int(y))\n",
    "\n",
    "\n",
    "left = sorted(left)\n",
    "right = sorted(right)\n",
    "\n",
    "# loop through the data\n",
    "for idx,char in enumerate(left):\n",
    "    # add absolute distance to the total\n",
    "    total += abs(left[idx] - right[idx])\n",
    "\n",
    "# print total\n",
    "print(total)"
   ]
  },
  {
   "cell_type": "markdown",
   "metadata": {},
   "source": [
    "## --- Part Two ---\n"
   ]
  },
  {
   "cell_type": "code",
   "execution_count": 27,
   "metadata": {},
   "outputs": [
    {
     "name": "stdout",
     "output_type": "stream",
     "text": [
      "21607792\n"
     ]
    }
   ],
   "source": [
    "from collections import Counter\n",
    "\n",
    "file = 'input.txt'\n",
    "# file = 'sample.txt'\n",
    "\n",
    "left = []\n",
    "right = []\n",
    "total = 0\n",
    "\n",
    "# open file\n",
    "with open(file, 'r') as f:\n",
    "    # read input\n",
    "    lines = f.read().splitlines()\n",
    "    for line in lines:\n",
    "        # split input to left/right arrays\n",
    "        [x, y] = line.split('   ')\n",
    "        left.append(int(x))\n",
    "        right.append(int(y))\n",
    "\n",
    "lCounter = Counter(left)\n",
    "rCounter = Counter(right)\n",
    "\n",
    "# loop through the data\n",
    "for idx,char in enumerate(left):\n",
    "    # use the counter to look up value and multiply \n",
    "    total += char * rCounter[char]\n",
    "\n",
    "# print total\n",
    "print(total)"
   ]
  }
 ],
 "metadata": {
  "kernelspec": {
   "display_name": "Python 3",
   "language": "python",
   "name": "python3"
  },
  "language_info": {
   "codemirror_mode": {
    "name": "ipython",
    "version": 3
   },
   "file_extension": ".py",
   "mimetype": "text/x-python",
   "name": "python",
   "nbconvert_exporter": "python",
   "pygments_lexer": "ipython3",
   "version": "3.12.4"
  }
 },
 "nbformat": 4,
 "nbformat_minor": 2
}
