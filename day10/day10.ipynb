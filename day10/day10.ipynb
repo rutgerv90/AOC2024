{
 "cells": [
  {
   "cell_type": "markdown",
   "metadata": {},
   "source": [
    "# Day 10: Hoof It\n",
    "\n",
    "https://adventofcode.com/2024/day/10\n",
    "\n",
    "## --- Part One ---"
   ]
  },
  {
   "cell_type": "code",
   "execution_count": null,
   "metadata": {},
   "outputs": [
    {
     "name": "stdout",
     "output_type": "stream",
     "text": [
      "Loading... 100.00%\n",
      "Answer to part 1: 667\n"
     ]
    }
   ],
   "source": [
    "import numpy as np\n",
    "from pprint import pprint\n",
    "\n",
    "\n",
    "file = 'input.txt'\n",
    "# file = 'sample.txt'\n",
    "# file = 'sample2.txt'\n",
    "\n",
    "# init vars\n",
    "total_score = 0\n",
    "trailhead = []\n",
    "\n",
    "\n",
    "# open file & load content\n",
    "with open(file, 'r') as f:\n",
    "    lines = f.read().splitlines()\n",
    "    trailhead = np.array([list(line) for line in lines])\n",
    "\n",
    "\n",
    "# search through the trailhead\n",
    "def dfs(matrix, i, j, visited, target_val):\n",
    "    global total_score\n",
    "    # Check if the current position is out of bounds or already visited\n",
    "    if i < 0 or i >= len(matrix) or j < 0 or j >= len(matrix[0]) or visited[i][j] or matrix[i][j] == '.':\n",
    "        return\n",
    "    \n",
    "    # if the value is not the target value exit\n",
    "    if int(matrix[i][j]) != target_val:\n",
    "        return\n",
    "            \n",
    "    # Mark the current cell as visited\n",
    "    visited[i][j] = True\n",
    "\n",
    "    # if the target value = 9; trail is completed and up the total score by 1\n",
    "    if int(matrix[i][j]) == 9:\n",
    "        total_score +=1\n",
    "        return \n",
    "    \n",
    "    # Explore the neighbors (up, down, left, right)\n",
    "    dfs(matrix, i - 1, j, visited, target_val+1)  # Up\n",
    "    dfs(matrix, i + 1, j, visited, target_val+1)  # Down\n",
    "    dfs(matrix, i, j - 1, visited, target_val+1)  # Left\n",
    "    dfs(matrix, i, j + 1, visited, target_val+1)  # Right\n",
    "\n",
    "\n",
    "\n",
    "\n",
    "starts = np.where(trailhead == '0')\n",
    "# loop over all possible starting location\n",
    "for loc in range(len(starts[0])):\n",
    "    \n",
    "\n",
    "    # ---- checking and displaying for loop loading times ----\n",
    "    # Calculate the percentage\n",
    "    percent_complete = (loc + 1) / len(starts[0]) * 100\n",
    "    # Print the progress\n",
    "    print(f\"Loading... {percent_complete:.2f}%\", end='\\r')\n",
    "    # --------------------------------------------------------\n",
    "\n",
    "    # start row and col\n",
    "    row = starts[0][loc]\n",
    "    col = starts[1][loc]\n",
    "    visited = np.zeros_like(trailhead,dtype=int)\n",
    "    dfs(trailhead, row, col, visited,0)\n",
    "\n",
    "print('\\nAnswer to part 1:', total_score)"
   ]
  },
  {
   "cell_type": "markdown",
   "metadata": {},
   "source": [
    "## --- Part Two ---"
   ]
  },
  {
   "cell_type": "code",
   "execution_count": 1,
   "metadata": {},
   "outputs": [
    {
     "name": "stdout",
     "output_type": "stream",
     "text": [
      "Loading... 100.00%\n",
      "Answer to part 2: 1344\n"
     ]
    }
   ],
   "source": [
    "# For part 2 we just remove the 'visited' list which tracks the spaces that have been visited\n",
    "\n",
    "import numpy as np\n",
    "from pprint import pprint\n",
    "\n",
    "\n",
    "file = 'input.txt'\n",
    "# file = 'sample.txt'\n",
    "# file = 'sample3.txt'\n",
    "\n",
    "# init vars\n",
    "total_score = 0\n",
    "trailhead = []\n",
    "\n",
    "\n",
    "# open file & load content\n",
    "with open(file, 'r') as f:\n",
    "    lines = f.read().splitlines()\n",
    "    trailhead = np.array([list(line) for line in lines])\n",
    "\n",
    "\n",
    "# search through the trailhead\n",
    "def dfs(matrix, i, j, target_val):\n",
    "    global total_score\n",
    "    # Check if the current position is out of bounds or already visited\n",
    "    if i < 0 or i >= len(matrix) or j < 0 or j >= len(matrix[0]) or matrix[i][j] == '.':\n",
    "        return\n",
    "    \n",
    "    # if the value is not the target value exit\n",
    "    if int(matrix[i][j]) != target_val:\n",
    "        return\n",
    "\n",
    "    # if the target value = 9; trail is completed and up the total score by 1\n",
    "    if int(matrix[i][j]) == 9:\n",
    "        total_score +=1\n",
    "    \n",
    "    # Explore the neighbors (up, down, left, right)\n",
    "    dfs(matrix, i - 1, j, target_val+1)  # Up\n",
    "    dfs(matrix, i + 1, j, target_val+1)  # Down\n",
    "    dfs(matrix, i, j - 1, target_val+1)  # Left\n",
    "    dfs(matrix, i, j + 1, target_val+1)  # Right\n",
    "\n",
    "starts = np.where(trailhead == '0')\n",
    "\n",
    "# loop over all possible starting location\n",
    "for loc in range(len(starts[0])):    \n",
    "\n",
    "    # ---- checking and displaying for loop loading times ----\n",
    "    # Calculate the percentage\n",
    "    percent_complete = (loc + 1) / len(starts[0]) * 100\n",
    "    # Print the progress\n",
    "    print(f\"Loading... {percent_complete:.2f}%\", end='\\r')\n",
    "    # --------------------------------------------------------\n",
    "\n",
    "    # start row and col\n",
    "    row = starts[0][loc]\n",
    "    col = starts[1][loc]\n",
    "    dfs(trailhead, row, col, 0)\n",
    "\n",
    "print('\\nAnswer to part 2:', total_score)"
   ]
  }
 ],
 "metadata": {
  "kernelspec": {
   "display_name": "Python 3",
   "language": "python",
   "name": "python3"
  },
  "language_info": {
   "codemirror_mode": {
    "name": "ipython",
    "version": 3
   },
   "file_extension": ".py",
   "mimetype": "text/x-python",
   "name": "python",
   "nbconvert_exporter": "python",
   "pygments_lexer": "ipython3",
   "version": "3.12.4"
  }
 },
 "nbformat": 4,
 "nbformat_minor": 2
}
