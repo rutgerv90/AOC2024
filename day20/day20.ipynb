{
 "cells": [
  {
   "cell_type": "markdown",
   "metadata": {},
   "source": [
    "# Day 20: Race Condition\n",
    "\n",
    "https://adventofcode.com/2024/day/20\n",
    "\n",
    "## --- Part One ---"
   ]
  },
  {
   "cell_type": "code",
   "execution_count": 88,
   "metadata": {},
   "outputs": [],
   "source": [
    "import numpy as np\n",
    "import math\n",
    "import re\n",
    "import heapq\n",
    "from copy import deepcopy\n",
    "from pprint import pprint\n",
    "from termcolor import colored\n",
    "\n",
    "file = 'input.txt'\n",
    "# file = 'sample.txt'\n",
    "# file = 'sample2.txt'\n",
    "\n",
    "# init vars\n",
    "answer = 0\n",
    "maze = []\n",
    "\n",
    "# open file & load content\n",
    "with open(file, 'r') as f:\n",
    "    maze = np.array([list(line) for line in f.read().splitlines()])\n",
    "\n",
    "# we re-use a simplified dijkstra search alg from day 16\n",
    "def dijkstra(grid, start, goal):\n",
    "    rows, cols = grid.shape\n",
    "    distances = np.full((rows, cols), np.inf)\n",
    "    distances[start] = 0\n",
    "    priority_queue = [(0, start)]\n",
    "    visited = set()\n",
    "\n",
    "    while priority_queue:\n",
    "        current_distance, current_node = heapq.heappop(priority_queue)\n",
    "        if current_node in visited:\n",
    "            continue\n",
    "        visited.add(current_node)\n",
    "        \n",
    "        if current_node == goal:\n",
    "            break\n",
    "        \n",
    "        neighbors = get_neighbors(current_node, rows, cols)\n",
    "        for neighbor in neighbors:\n",
    "            if grid[neighbor] == 1:  # Skip obstacles\n",
    "                continue\n",
    "            distance = current_distance + 1  # Assuming uniform cost\n",
    "            if distance < distances[neighbor]:\n",
    "                distances[neighbor] = distance\n",
    "                heapq.heappush(priority_queue, (distance, neighbor))\n",
    "    \n",
    "    return distances\n",
    "\n",
    "def get_neighbors(node, rows, cols):\n",
    "    x, y = node\n",
    "    neighbors = []\n",
    "    for dx, dy in [(-1, 0), (1, 0), (0, -1), (0, 1)]:\n",
    "        nx, ny = x + dx, y + dy\n",
    "        if 0 <= nx < rows and 0 <= ny < cols:\n",
    "            neighbors.append((nx, ny))\n",
    "    return neighbors\n",
    "\n",
    "start = (np.where(maze == 'S')[0][0],np.where(maze == 'S')[1][0])\n",
    "end = (np.where(maze == 'E')[0][0],np.where(maze == 'E')[1][0])\n",
    "maze_weights = np.ones_like(maze, dtype=int)\n",
    "\n",
    "# set the walls\n",
    "maze_weights[np.where(maze !='#')] = 0\n",
    "\n",
    "path = dijkstra(maze_weights, start, end)\n",
    "path_length = (np.max(path[np.isfinite(path)]))\n",
    "    \n",
    "# print(path)"
   ]
  },
  {
   "cell_type": "code",
   "execution_count": null,
   "metadata": {},
   "outputs": [
    {
     "name": "stdout",
     "output_type": "stream",
     "text": [
      "Answer to part 1: 1429\n"
     ]
    }
   ],
   "source": [
    "# path_colums = [path[:, i] for i in range(path.shape[1])]\n",
    "# Function to get the absolute difference between two integers in a list\n",
    "def absolute_difference(num1, num2):\n",
    "    return abs(num1- num2)\n",
    "\n",
    "answer = 0\n",
    "\n",
    "# check for cheats in rows\n",
    "for row_idx,row in enumerate(path):\n",
    "    # skip first and last row\n",
    "    if row_idx == 0 or row_idx == len(path)-1:\n",
    "        continue\n",
    "    for i in range(1,len(row)-2):\n",
    "        cur = row[i]\n",
    "        # only check the numbers not the walls\n",
    "        if np.isfinite(cur):\n",
    "            if row[i+1] == np.inf and np.isfinite(row[i+2]):\n",
    "                shortcut = [int(row[i]), int(row[i+2])]\n",
    "                time_saved = absolute_difference(shortcut[0],shortcut[1]) -2\n",
    "                if time_saved >= 100:\n",
    "                    answer +=1\n",
    "\n",
    "path_cols = [path[:, i] for i in range(path.shape[1])]\n",
    "\n",
    "for row_idx,row in enumerate(path_cols):\n",
    "    # skip first and last row\n",
    "    if row_idx == 0 or row_idx == len(path)-1:\n",
    "        continue\n",
    "    for i in range(1,len(row)-2):\n",
    "        cur = row[i]\n",
    "        # only check the numbers not the walls\n",
    "        if np.isfinite(cur):\n",
    "            if row[i+1] == np.inf and np.isfinite(row[i+2]):\n",
    "                shortcut = [int(row[i]), int(row[i+2])]\n",
    "                time_saved = absolute_difference(shortcut[0],shortcut[1]) -2\n",
    "                if time_saved >= 100:\n",
    "                    answer +=1\n",
    "\n",
    "print('Answer to part 1:', answer)\n",
    "            "
   ]
  },
  {
   "cell_type": "markdown",
   "metadata": {},
   "source": [
    "## --- Part Two ---"
   ]
  }
 ],
 "metadata": {
  "kernelspec": {
   "display_name": "Python 3",
   "language": "python",
   "name": "python3"
  },
  "language_info": {
   "codemirror_mode": {
    "name": "ipython",
    "version": 3
   },
   "file_extension": ".py",
   "mimetype": "text/x-python",
   "name": "python",
   "nbconvert_exporter": "python",
   "pygments_lexer": "ipython3",
   "version": "3.12.4"
  }
 },
 "nbformat": 4,
 "nbformat_minor": 2
}
