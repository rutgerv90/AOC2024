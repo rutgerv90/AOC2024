{
 "cells": [
  {
   "cell_type": "markdown",
   "metadata": {},
   "source": [
    "# Day 8: Resonant Collinearity\n",
    "\n",
    "https://adventofcode.com/2024/day/8\n",
    "\n",
    "## --- Part One ---"
   ]
  },
  {
   "cell_type": "code",
   "execution_count": 98,
   "metadata": {},
   "outputs": [
    {
     "name": "stdout",
     "output_type": "stream",
     "text": [
      "\n",
      "Answer to part 1: 357\n"
     ]
    }
   ],
   "source": [
    "import numpy as np\n",
    "\n",
    "file = 'input.txt'\n",
    "# file = 'sample.txt'\n",
    "\n",
    "# init vars\n",
    "total_score = 0\n",
    "data = dict()\n",
    "clean = []\n",
    "\n",
    "# open file\n",
    "with open(file, 'r') as f:\n",
    "    lines = f.read().splitlines()\n",
    "    clean = np.zeros([len(lines), len(lines[0])])\n",
    "    for row,line in enumerate(lines):\n",
    "        for col,antenna in enumerate(line):\n",
    "            # filter out everything but the \n",
    "            if antenna != '.':\n",
    "                if antenna in data:\n",
    "                    data[antenna].append([row,col])\n",
    "                else:\n",
    "                    data[antenna] = [[row,col]]\n",
    " \n",
    "# return True if node is within bounds                 \n",
    "def within_bounds(antinode, array2d):\n",
    "    return (0 <= antinode[0] < array2d.shape[0]) and (0 <= antinode[1] < array2d.shape[1])\n",
    "\n",
    "for key in data:\n",
    "    check = np.array(data[key])\n",
    "    for i in range(len(check)-1):\n",
    "        a = check[i]\n",
    "        for j in check[i+1:]:\n",
    "            # create the 2 antinodes\n",
    "            antinodes = [a + (a-j),j-(a-j)]\n",
    "            # check and add antinodes to clean array\n",
    "            for anti in antinodes:\n",
    "                if within_bounds(anti, clean):\n",
    "                    clean[anti[0],anti[1]] =1\n",
    "\n",
    "total_score = np.count_nonzero(clean)\n",
    "print('\\nAnswer to part 1:', total_score)"
   ]
  },
  {
   "cell_type": "markdown",
   "metadata": {},
   "source": [
    "## --- Part Two ---"
   ]
  },
  {
   "cell_type": "code",
   "execution_count": 97,
   "metadata": {},
   "outputs": [
    {
     "name": "stdout",
     "output_type": "stream",
     "text": [
      "Answer to part 2: 1266\n"
     ]
    }
   ],
   "source": [
    "import numpy as np\n",
    "\n",
    "file = 'input.txt'\n",
    "# file = 'sample.txt'\n",
    "# file = 'sample2.txt'\n",
    "\n",
    "# init vars\n",
    "total_score = 0\n",
    "data = dict()\n",
    "clean = []\n",
    "\n",
    "# open file\n",
    "with open(file, 'r') as f:\n",
    "    lines = f.read().splitlines()\n",
    "    clean = np.zeros([len(lines), len(lines[0])])\n",
    "    for row,line in enumerate(lines):\n",
    "        for col,antenna in enumerate(line):\n",
    "            # filter out everything but the \n",
    "            if antenna != '.':\n",
    "                # add location of ALL antennas to the grid\n",
    "                clean[row,col] = 1\n",
    "                if antenna in data:\n",
    "                    data[antenna].append([row,col])\n",
    "                else:\n",
    "                    data[antenna] = [[row,col]]\n",
    "\n",
    "\n",
    "# return True if node is within bounds                \n",
    "def within_bounds(antinode, array2d):\n",
    "    return (0 <= antinode[0] < array2d.shape[0]) and (0 <= antinode[1] < array2d.shape[1])\n",
    "\n",
    "for key in data:\n",
    "    check = np.array(data[key])\n",
    "    for i in range(len(check)-1):\n",
    "        a = check[i]\n",
    "        for j in check[i+1:]:\n",
    "            # check the antinodes in both direction\n",
    "            dir = (a-j)\n",
    "            x = a\n",
    "            while within_bounds(x, clean):\n",
    "                x = x + dir\n",
    "                if within_bounds(x, clean):\n",
    "                    clean[x[0],x[1]] =1\n",
    "            y = a\n",
    "            while within_bounds(y, clean):\n",
    "                y = y - dir\n",
    "                if within_bounds(y, clean):\n",
    "                    clean[y[0],y[1]] =1\n",
    "\n",
    "# count the number of nonzero\n",
    "total_score = np.count_nonzero(clean)\n",
    "print('Answer to part 2:', total_score)"
   ]
  }
 ],
 "metadata": {
  "kernelspec": {
   "display_name": "Python 3",
   "language": "python",
   "name": "python3"
  },
  "language_info": {
   "codemirror_mode": {
    "name": "ipython",
    "version": 3
   },
   "file_extension": ".py",
   "mimetype": "text/x-python",
   "name": "python",
   "nbconvert_exporter": "python",
   "pygments_lexer": "ipython3",
   "version": "3.12.4"
  }
 },
 "nbformat": 4,
 "nbformat_minor": 2
}
