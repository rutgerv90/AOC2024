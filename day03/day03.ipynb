{
 "cells": [
  {
   "cell_type": "markdown",
   "metadata": {},
   "source": [
    "# Day 3: Mull It Over\n",
    "\n",
    "https://adventofcode.com/2024/day/3\n",
    "\n",
    "## --- Part One ---"
   ]
  },
  {
   "cell_type": "code",
   "execution_count": null,
   "metadata": {},
   "outputs": [
    {
     "name": "stdout",
     "output_type": "stream",
     "text": [
      "Total is: 175700056\n"
     ]
    }
   ],
   "source": [
    "import re\n",
    "\n",
    "file = 'input.txt'\n",
    "# file = 'sample.txt'\n",
    "\n",
    "total = 0\n",
    "\n",
    "# open file\n",
    "with open(file, 'r') as f:\n",
    "    # read input string\n",
    "    input_string = f.read()\n",
    "    # use RegEx to find all instances of the right mult\n",
    "    mults = re.findall(r\"mul\\((\\d{1,3}),(\\d{1,3})\\)\",input_string)\n",
    "    # loop through found items\n",
    "    for items in mults:\n",
    "        # multiply them\n",
    "        item_mult = int(items[0]) * int(items[1])\n",
    "        # add them to the total\n",
    "        total += item_mult\n",
    "\n",
    "\n",
    "print('Total is:',total)"
   ]
  },
  {
   "cell_type": "markdown",
   "metadata": {},
   "source": [
    "## --- Part Two ---"
   ]
  },
  {
   "cell_type": "code",
   "execution_count": 36,
   "metadata": {},
   "outputs": [
    {
     "name": "stdout",
     "output_type": "stream",
     "text": [
      "Total is: 71668682\n"
     ]
    }
   ],
   "source": [
    "import re\n",
    "\n",
    "file = 'input.txt'\n",
    "# file = 'sample2.txt'\n",
    "\n",
    "total = 0\n",
    "\n",
    "# open file\n",
    "with open(file, 'r') as f:\n",
    "    # read input string\n",
    "    input_string = f.read()\n",
    "    # use RegEx to find all instances of the mult OR the \"dont't()\" OR the \"do()\"\n",
    "    items = re.findall(r\"(mul\\((\\d{1,3}),(\\d{1,3})\\))|(don\\'t\\(\\))|(do\\(\\))\",input_string)\n",
    "    # start with not skipping\n",
    "    skip = False\n",
    "    # loop through found items\n",
    "    for item in items:\n",
    "        # init the multiplication sum\n",
    "        mult = 0\n",
    "        # if a sum is found in the RegEx results set the mult\n",
    "        if item[0] != '':\n",
    "            mult = int(item[1]) * int(item[2])\n",
    "        # item[3] is for the \"don't()\" and sets the flag\n",
    "        if item[3] != '':\n",
    "            skip = True\n",
    "        # item[4] is for the \"do()\" and sets the flag\n",
    "        if item[4] != '':\n",
    "            skip = False\n",
    "        # if no skip flag is present add the mult to the total\n",
    "        if not skip:\n",
    "            total += mult\n",
    "\n",
    "print('Total is:',total)"
   ]
  }
 ],
 "metadata": {
  "kernelspec": {
   "display_name": "Python 3",
   "language": "python",
   "name": "python3"
  },
  "language_info": {
   "codemirror_mode": {
    "name": "ipython",
    "version": 3
   },
   "file_extension": ".py",
   "mimetype": "text/x-python",
   "name": "python",
   "nbconvert_exporter": "python",
   "pygments_lexer": "ipython3",
   "version": "3.12.4"
  }
 },
 "nbformat": 4,
 "nbformat_minor": 2
}
