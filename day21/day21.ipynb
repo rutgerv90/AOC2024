{
 "cells": [
  {
   "cell_type": "markdown",
   "metadata": {},
   "source": [
    "# Day 21: Keypad Conundrum\n",
    "\n",
    "https://adventofcode.com/2024/day/21\n",
    "\n",
    "## --- Part One ---"
   ]
  },
  {
   "cell_type": "code",
   "execution_count": 1,
   "metadata": {},
   "outputs": [
    {
     "name": "stdout",
     "output_type": "stream",
     "text": [
      "029A\n",
      "980A\n",
      "179A\n",
      "456A\n",
      "379A\n"
     ]
    }
   ],
   "source": [
    "# some imports i may or may not need \n",
    "import numpy as np\n",
    "import math\n",
    "import re\n",
    "import heapq\n",
    "from copy import deepcopy\n",
    "from pprint import pprint\n",
    "from termcolor import colored\n",
    "\n",
    "file = 'input.txt'\n",
    "file = 'sample.txt'\n",
    "# file = 'sample2.txt'\n",
    "\n",
    "# init vars\n",
    "answer = 0\n",
    "maze = []\n",
    "\n",
    "# open file & load content\n",
    "with open(file, 'r') as f:\n",
    "    print(f.read())"
   ]
  },
  {
   "cell_type": "markdown",
   "metadata": {},
   "source": [
    "## --- Part Two ---"
   ]
  }
 ],
 "metadata": {
  "kernelspec": {
   "display_name": "Python 3",
   "language": "python",
   "name": "python3"
  },
  "language_info": {
   "codemirror_mode": {
    "name": "ipython",
    "version": 3
   },
   "file_extension": ".py",
   "mimetype": "text/x-python",
   "name": "python",
   "nbconvert_exporter": "python",
   "pygments_lexer": "ipython3",
   "version": "3.12.4"
  }
 },
 "nbformat": 4,
 "nbformat_minor": 2
}
