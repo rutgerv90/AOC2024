{
 "cells": [
  {
   "cell_type": "markdown",
   "metadata": {},
   "source": [
    "# Day 23: LAN Party\n",
    "\n",
    "https://adventofcode.com/2024/day/23\n",
    "\n",
    "## --- Part One ---"
   ]
  },
  {
   "cell_type": "code",
   "execution_count": 140,
   "metadata": {},
   "outputs": [
    {
     "name": "stdout",
     "output_type": "stream",
     "text": [
      "Answer to part 1: 1170\n"
     ]
    }
   ],
   "source": [
    "# some imports i may or may not need \n",
    "import numpy as np\n",
    "import math\n",
    "import re\n",
    "import heapq\n",
    "from copy import deepcopy\n",
    "from pprint import pprint\n",
    "from termcolor import colored\n",
    "import matplotlib.pyplot as plt\n",
    "\n",
    "file = 'input.txt'\n",
    "# file = 'sample.txt'\n",
    "# file = 'sample2.txt'\n",
    "\n",
    "# init vars\n",
    "answer = 0\n",
    "pcs = []\n",
    "network = {}\n",
    "\n",
    "# open file & load content\n",
    "with open(file, 'r') as f:\n",
    "    pcs = [line.split('-') for line in f.read().splitlines()]\n",
    "\n",
    "for pc1,pc2 in pcs:\n",
    "    if pc1 not in network:\n",
    "        network[pc1] = [pc2]\n",
    "    else:\n",
    "        network[pc1].append(pc2)\n",
    "\n",
    "    if pc2 not in network:\n",
    "        network[pc2] = [pc1]\n",
    "    else:\n",
    "        network[pc2].append(pc1)\n",
    "\n",
    "groups3 = set()\n",
    "\n",
    "for pc1 in network:\n",
    "    lan1 = network[pc1]\n",
    "    for pc2 in lan1:\n",
    "        lan2 = network[pc2]\n",
    "        # Find duplicates using list comprehension\n",
    "        duplicates = [item for item in lan1 if item in lan2]\n",
    "        # loop through duplicates\n",
    "        for pc3 in duplicates:\n",
    "            # special rule for starting with T\n",
    "            if pc1[0] == 't' or pc2[0] == 't' or pc3[0]== 't':\n",
    "                # add unique grouping, sort by name first so set() is useful\n",
    "                groups3.add(tuple(sorted((pc1, pc2, pc3))))\n",
    "\n",
    "# pprint(groups3)\n",
    "print('Answer to part 1:', len(groups3))"
   ]
  },
  {
   "cell_type": "markdown",
   "metadata": {},
   "source": [
    "## --- Part Two ---"
   ]
  },
  {
   "cell_type": "code",
   "execution_count": null,
   "metadata": {},
   "outputs": [
    {
     "name": "stdout",
     "output_type": "stream",
     "text": [
      "Answer to part 2: bo,dd,eq,ik,lo,lu,ph,ro,rr,rw,uo,wx,yg\n"
     ]
    }
   ],
   "source": [
    "# some imports i may or may not need \n",
    "import numpy as np\n",
    "import math\n",
    "import re\n",
    "import heapq\n",
    "from copy import deepcopy\n",
    "from pprint import pprint\n",
    "from termcolor import colored\n",
    "import matplotlib.pyplot as plt\n",
    "\n",
    "file = 'input.txt'\n",
    "# file = 'sample.txt'\n",
    "# file = 'sample2.txt'\n",
    "\n",
    "# init vars\n",
    "answer = 0\n",
    "pcs = []\n",
    "network = {}\n",
    "\n",
    "# open file & load content\n",
    "with open(file, 'r') as f:\n",
    "    pcs = [line.split('-') for line in f.read().splitlines()]\n",
    "\n",
    "for pc1,pc2 in pcs:\n",
    "    if pc1 not in network:\n",
    "        network[pc1] = [pc2]\n",
    "    else:\n",
    "        network[pc1].append(pc2)\n",
    "\n",
    "    if pc2 not in network:\n",
    "        network[pc2] = [pc1]\n",
    "    else:\n",
    "        network[pc2].append(pc1)\n",
    "\n",
    "checked = set()\n",
    "\n",
    "# recursive check\n",
    "def check_pcs(pc, duplicates, visited):\n",
    "    lan = network[pc]\n",
    "    # deepcopy\n",
    "    tp = deepcopy(visited)\n",
    "    # append\n",
    "    tp.append(pc)\n",
    "    # converted to sorted tuple\n",
    "    tp = tuple(sorted(tp))\n",
    "    if tp not in checked:\n",
    "        checked.add(tp)\n",
    "        d1 = [item for item in duplicates if item in lan]\n",
    "        if len(d1) > 0:\n",
    "            for item in d1:\n",
    "                return check_pcs(item, d1, list(tp))\n",
    "        else:\n",
    "            return list(tp)\n",
    "\n",
    "winning_sequence = []\n",
    "for idx,pc in enumerate(network):\n",
    "\n",
    "    a = check_pcs(pc, network[pc], [])\n",
    "    if a != None and len(a) > len(winning_sequence):\n",
    "        winning_sequence = a\n",
    "\n",
    "print('Answer to part 2:',','.join(winning_sequence))\n",
    "\n"
   ]
  }
 ],
 "metadata": {
  "kernelspec": {
   "display_name": "Python 3",
   "language": "python",
   "name": "python3"
  },
  "language_info": {
   "codemirror_mode": {
    "name": "ipython",
    "version": 3
   },
   "file_extension": ".py",
   "mimetype": "text/x-python",
   "name": "python",
   "nbconvert_exporter": "python",
   "pygments_lexer": "ipython3",
   "version": "3.12.4"
  }
 },
 "nbformat": 4,
 "nbformat_minor": 2
}
