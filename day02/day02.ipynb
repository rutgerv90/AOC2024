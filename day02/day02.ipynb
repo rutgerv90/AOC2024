{
 "cells": [
  {
   "cell_type": "markdown",
   "metadata": {},
   "source": [
    "# Day 2: Red-Nosed Reports\n",
    "\n",
    "https://adventofcode.com/2024/day/2\n",
    "\n",
    "## --- Part One ---"
   ]
  },
  {
   "cell_type": "code",
   "execution_count": 95,
   "metadata": {},
   "outputs": [
    {
     "name": "stdout",
     "output_type": "stream",
     "text": [
      "Safe reports:  502\n"
     ]
    }
   ],
   "source": [
    "file = 'input.txt'\n",
    "# file = 'sample.txt'\n",
    "\n",
    "safe_reports = 0\n",
    "max_difference = 3\n",
    "reruns = []\n",
    "\n",
    "# checks whether all items in a list ar either true or false\n",
    "def check_all_true_or_all_false(lst):\n",
    "    return all(lst) or not any(lst)\n",
    "\n",
    "# open file\n",
    "with open(file, 'r') as f:\n",
    "    # read input\n",
    "    lines = f.read().splitlines()\n",
    "    for line in lines:\n",
    "        report = [int(x) for x in line.split(' ')]\n",
    "        # make a list of the difference \n",
    "        dif_report = []        \n",
    "        for i,v in enumerate(report):\n",
    "            if i == 0:\n",
    "                continue\n",
    "            else:\n",
    "                dif_report.append(v - report[i-1])\n",
    "        safe = True\n",
    "        # remove reports that are not all going up or down\n",
    "        if check_all_true_or_all_false([x>0 for x in dif_report]):\n",
    "            # go over the difference and disregard illegal reports\n",
    "            for i,v in enumerate(dif_report):\n",
    "                if v == 0 or abs(v) > max_difference:\n",
    "                    #unsafe\n",
    "                    safe = False\n",
    "                    break\n",
    "        else:\n",
    "            safe = False        \n",
    "        if safe:\n",
    "            safe_reports +=1\n",
    "        \n",
    "\n",
    "\n",
    "print('Safe reports: ', safe_reports)"
   ]
  },
  {
   "cell_type": "markdown",
   "metadata": {},
   "source": [
    "## --- Part Two ---"
   ]
  },
  {
   "cell_type": "code",
   "execution_count": 97,
   "metadata": {},
   "outputs": [
    {
     "name": "stdout",
     "output_type": "stream",
     "text": [
      "Safe reports before recheck: 502\n",
      "Safe reports after recheck: 544\n"
     ]
    }
   ],
   "source": [
    "from copy import deepcopy\n",
    "\n",
    "file = 'input.txt'\n",
    "# file = 'sample.txt'\n",
    "\n",
    "safe_reports = 0\n",
    "max_difference = 3\n",
    "unsafe_reports = []\n",
    "\n",
    "# checks whether all items in a list are either true or false\n",
    "def check_all_true_or_all_false(lst):\n",
    "    return all(lst) or not any(lst)\n",
    "\n",
    "# open file\n",
    "with open(file, 'r') as f:\n",
    "    # read input\n",
    "    lines = f.read().splitlines()\n",
    "    for line in lines:\n",
    "        report = [int(x) for x in line.split(' ')]\n",
    "        # make a list of the difference \n",
    "        dif_report = []        \n",
    "        for i,v in enumerate(report):\n",
    "            if i == 0:\n",
    "                continue\n",
    "            else:\n",
    "                dif_report.append(v - report[i-1])\n",
    "        safe = True\n",
    "        # remove reports that are not all going up or down\n",
    "        if check_all_true_or_all_false([x>0 for x in dif_report]):\n",
    "            # go over the difference and disregard illegal reports\n",
    "            for i,v in enumerate(dif_report):\n",
    "                if v == 0 or abs(v) > max_difference:\n",
    "                    #unsafe\n",
    "                    safe = False\n",
    "                    break\n",
    "        else:\n",
    "            safe = False        \n",
    "        if safe:\n",
    "            safe_reports +=1\n",
    "        else:\n",
    "            unsafe_reports.append(report)\n",
    "        \n",
    "# this function reruns unsafe reports but now checking with indexes missing\n",
    "def rerun_report_check(reports):\n",
    "    global safe_reports\n",
    "    for report in reports:\n",
    "        # go over every index\n",
    "        for i in range(len(report)):\n",
    "            # deepcopy of the original report\n",
    "            xreport = deepcopy(report)\n",
    "            # remove the index\n",
    "            xreport.pop(i)\n",
    "            dif_report = []\n",
    "            for i,v in enumerate(xreport):\n",
    "                if i == 0:\n",
    "                    continue\n",
    "                else:\n",
    "                    dif_report.append(v - xreport[i-1])\n",
    "            safe = True\n",
    "            # remove reports that are not all going up or down\n",
    "            if check_all_true_or_all_false([x>0 for x in dif_report]):\n",
    "                # go over the difference and disregard illegal reports\n",
    "                for i,v in enumerate(dif_report):\n",
    "                    if v == 0 or abs(v) > max_difference:\n",
    "                        #unsafe\n",
    "                        safe = False\n",
    "                        break\n",
    "            else:\n",
    "                safe = False\n",
    "            if safe:\n",
    "                # if reports with index remove is deemed safe break out of the loop and check next (un)safe report\n",
    "                safe_reports +=1\n",
    "                break\n",
    "    \n",
    "\n",
    "print('Safe reports before recheck:', safe_reports)\n",
    "rerun_report_check(unsafe_reports)\n",
    "print('Safe reports after recheck:', safe_reports)"
   ]
  }
 ],
 "metadata": {
  "kernelspec": {
   "display_name": "Python 3",
   "language": "python",
   "name": "python3"
  },
  "language_info": {
   "codemirror_mode": {
    "name": "ipython",
    "version": 3
   },
   "file_extension": ".py",
   "mimetype": "text/x-python",
   "name": "python",
   "nbconvert_exporter": "python",
   "pygments_lexer": "ipython3",
   "version": "3.12.4"
  }
 },
 "nbformat": 4,
 "nbformat_minor": 2
}
