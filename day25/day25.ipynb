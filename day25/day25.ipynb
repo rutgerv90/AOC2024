{
 "cells": [
  {
   "cell_type": "markdown",
   "metadata": {},
   "source": [
    "# Day 25: Code Chronicle\n",
    "\n",
    "https://adventofcode.com/2024/day/25\n",
    "\n",
    "## --- Part One ---"
   ]
  },
  {
   "cell_type": "code",
   "execution_count": 71,
   "metadata": {},
   "outputs": [
    {
     "name": "stdout",
     "output_type": "stream",
     "text": [
      "Answer to part 1: 3327\n"
     ]
    }
   ],
   "source": [
    "# some imports i may or may not need \n",
    "import numpy as np\n",
    "import math\n",
    "import re\n",
    "import heapq\n",
    "from copy import deepcopy\n",
    "from pprint import pprint\n",
    "from termcolor import colored\n",
    "import matplotlib.pyplot as plt\n",
    "\n",
    "file = 'sample.txt'\n",
    "# file = 'sample2.txt'\n",
    "file = 'input.txt'\n",
    "\n",
    "# init vars\n",
    "locks = []\n",
    "lock_heights = []\n",
    "keys = []\n",
    "key_heights = []\n",
    "answer = 0\n",
    "\n",
    "# open file & load content\n",
    "with open(file, 'r') as f:\n",
    "    a = [line.splitlines() for line in f.read().split('\\n\\n')]\n",
    "    for schema in a:\n",
    "        out = []\n",
    "        for row in schema:\n",
    "            out.append(list(row))\n",
    "        # \"The locks are schematics that have the top row filled (#) and the bottom row empty (.);\n",
    "        # the keys have the top row empty and the bottom row filled.\n",
    "        if '.' in out[0]:\n",
    "            keys.append(out)\n",
    "        else:\n",
    "            locks.append(out)\n",
    "\n",
    "# calc lock heights\n",
    "def calc_lock_heights():\n",
    "    for lock in locks:\n",
    "        heights = []\n",
    "        lock = np.array(lock)\n",
    "        for col in range(0,len(lock[0])):\n",
    "            x = np.count_nonzero(lock[:,col] == '#')\n",
    "            heights.append(x-1)\n",
    "        lock_heights.append(heights)\n",
    "\n",
    "# calc key heights\n",
    "def calc_key_heights():\n",
    "    for key in keys:\n",
    "        heights = []\n",
    "        key = np.array(key)\n",
    "        for col in range(0,len(key[0])):\n",
    "            x = np.count_nonzero(key[:,col] == '#')\n",
    "            heights.append(x-1)\n",
    "        key_heights.append(heights)\n",
    "\n",
    "calc_lock_heights()\n",
    "calc_key_heights()\n",
    "\n",
    "# check each lock\n",
    "for lockh in lock_heights:\n",
    "    # loop through all the keys\n",
    "    for keyh in key_heights:\n",
    "        both = np.array(lockh)+np.array(keyh)\n",
    "        # fits if no value is above 5\n",
    "        if not np.count_nonzero(both > 5):\n",
    "            answer +=1\n",
    "print('Answer to part 1:', answer)"
   ]
  },
  {
   "cell_type": "markdown",
   "metadata": {},
   "source": [
    "<!-- ## --- Part Two --- -->"
   ]
  },
  {
   "cell_type": "markdown",
   "metadata": {},
   "source": [
    "## --- Part Two ---\n",
    "\n",
    "Day 25 part 2 is not available until all other days have been fully completed."
   ]
  }
 ],
 "metadata": {
  "kernelspec": {
   "display_name": "Python 3",
   "language": "python",
   "name": "python3"
  },
  "language_info": {
   "codemirror_mode": {
    "name": "ipython",
    "version": 3
   },
   "file_extension": ".py",
   "mimetype": "text/x-python",
   "name": "python",
   "nbconvert_exporter": "python",
   "pygments_lexer": "ipython3",
   "version": "3.12.4"
  }
 },
 "nbformat": 4,
 "nbformat_minor": 2
}
