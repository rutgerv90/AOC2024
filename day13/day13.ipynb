{
 "cells": [
  {
   "cell_type": "markdown",
   "metadata": {},
   "source": [
    "# Day 13: Claw Contraption\n",
    "\n",
    "https://adventofcode.com/2024/day/13\n",
    "\n",
    "## --- Part One ---"
   ]
  },
  {
   "cell_type": "code",
   "execution_count": null,
   "metadata": {},
   "outputs": [
    {
     "name": "stdout",
     "output_type": "stream",
     "text": [
      "\n",
      "Answer to part 1: 36838\n"
     ]
    }
   ],
   "source": [
    "import numpy as np\n",
    "from pprint import pprint\n",
    "import re\n",
    "import math\n",
    "\n",
    "\n",
    "file = 'input.txt'\n",
    "# file = 'sample.txt'\n",
    "\n",
    "# init vars\n",
    "total_score = 0\n",
    "As = []\n",
    "Bs = []\n",
    "prizes = []\n",
    "\n",
    "\n",
    "# open file & load content\n",
    "with open(file, 'r') as f:\n",
    "    lines = f.read().split('\\n')\n",
    "    for line in lines:\n",
    "        # filter out empty lines\n",
    "        if line != '':\n",
    "            # match the right content\n",
    "            A = re.match(r\"Button A: X\\+(\\d+), Y\\+(\\d+)\",line)\n",
    "            B = re.match(r\"Button B: X\\+(\\d+), Y\\+(\\d+)\",line)\n",
    "            prize = re.match(r\"Prize: X=(\\d+), Y=(\\d+)\",line)\n",
    "            if A:\n",
    "                As.append([int(A.group(1)),int(A.group(2))])\n",
    "            if B:\n",
    "                Bs.append([int(B.group(1)),int(B.group(2))])\n",
    "            if prize:\n",
    "                prizes.append([int(prize.group(1)),int(prize.group(2))])\n",
    "\n",
    "\n",
    "# go through all the prizes\n",
    "for idx in range(len(prizes)):\n",
    "    A = As[idx]\n",
    "    B = Bs[idx]\n",
    "    prize = prizes[idx]\n",
    "    # keep track of the amount of tokens spend to get a solution\n",
    "    tokens_spend = []\n",
    "    # since there's a max of 100 presses check every possible combination of A and B presses\n",
    "    for a_presses in range(1,101):\n",
    "        for b_presses in range(1,101):\n",
    "            if (A[0] *a_presses + B[0]*b_presses) == prize[0] and (A[1] *a_presses + B[1]*b_presses) == prize[1]:\n",
    "                # print('prize found after', a_presses, b_presses) \n",
    "                # it costs 3 tokens to push the A button and 1 token to push the B button.\n",
    "                tokens = 3*a_presses + 1*b_presses\n",
    "                tokens_spend.append(tokens)\n",
    "\n",
    "    # if the length of tokens spend > 0 get the minimum amount\n",
    "    if len(tokens_spend) > 0:\n",
    "        total_score += min(tokens_spend)        \n",
    "\n",
    "print('\\nAnswer to part 1:', total_score)"
   ]
  },
  {
   "cell_type": "markdown",
   "metadata": {},
   "source": [
    "## --- Part Two ---"
   ]
  },
  {
   "cell_type": "code",
   "execution_count": 125,
   "metadata": {},
   "outputs": [
    {
     "name": "stdout",
     "output_type": "stream",
     "text": [
      "\n",
      "Answer to part 2: 83029436920891\n"
     ]
    }
   ],
   "source": [
    "import numpy as np\n",
    "from pprint import pprint\n",
    "import re\n",
    "import math\n",
    "# for this part use the sympy package to solve equation\n",
    "from sympy import symbols, Eq, solve, simplify\n",
    "\n",
    "\n",
    "file = 'input.txt'\n",
    "# file = 'sample.txt'\n",
    "\n",
    "# init vars\n",
    "bonus = 10000000000000\n",
    "total_score = 0\n",
    "As = []\n",
    "Bs = []\n",
    "prizes = []\n",
    "\n",
    "\n",
    "# open file & load content\n",
    "with open(file, 'r') as f:\n",
    "    lines = f.read().split('\\n')\n",
    "    for line in lines:\n",
    "        # filter out empty lines\n",
    "        if line != '':\n",
    "            A = re.match(r\"Button A: X\\+(\\d+), Y\\+(\\d+)\",line)\n",
    "            B = re.match(r\"Button B: X\\+(\\d+), Y\\+(\\d+)\",line)\n",
    "            prize = re.match(r\"Prize: X=(\\d+), Y=(\\d+)\",line)\n",
    "            if A:\n",
    "                As.append([int(A.group(1)),int(A.group(2))])\n",
    "            if B:\n",
    "                Bs.append([int(B.group(1)),int(B.group(2))])\n",
    "            if prize:\n",
    "                prizes.append([int(prize.group(1)),int(prize.group(2))])\n",
    "\n",
    "\n",
    "for idx in range(len(prizes)):\n",
    "    A = As[idx]\n",
    "    B = Bs[idx]\n",
    "    prize = prizes[idx]\n",
    "    # adjust the prize by the bonus amount\n",
    "    prize_adjusted = (np.array(prize) + bonus).tolist()\n",
    "    tokens_spend = []\n",
    "    X, Y = symbols('X Y')\n",
    "\n",
    "    # Define the equation\n",
    "    eq1 = Eq(A[0] * X + B[0] * Y, prize_adjusted[0])\n",
    "    eq2 = Eq(A[1] * X + B[1] * Y, prize_adjusted[1])\n",
    "\n",
    "    # Solve the equation\n",
    "    solution = solve((eq1, eq2), (X, Y))\n",
    "\n",
    "    # if solution is an integer append it\n",
    "    if simplify(solution[X]).is_integer and simplify(solution[Y]).is_integer:\n",
    "        # it costs 3 tokens to push the A button and 1 token to push the B button.\n",
    "        tokens = 3*int(solution[X]) + 1*int(solution[Y])\n",
    "        tokens_spend.append(tokens)\n",
    "\n",
    "    if len(tokens_spend) > 0:\n",
    "        total_score += min(tokens_spend)\n",
    "    # print('--')\n",
    "             \n",
    "print('\\nAnswer to part 2:', total_score)"
   ]
  }
 ],
 "metadata": {
  "kernelspec": {
   "display_name": "Python 3",
   "language": "python",
   "name": "python3"
  },
  "language_info": {
   "codemirror_mode": {
    "name": "ipython",
    "version": 3
   },
   "file_extension": ".py",
   "mimetype": "text/x-python",
   "name": "python",
   "nbconvert_exporter": "python",
   "pygments_lexer": "ipython3",
   "version": "3.12.4"
  }
 },
 "nbformat": 4,
 "nbformat_minor": 2
}
